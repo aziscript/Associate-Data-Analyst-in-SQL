{
 "cells": [
  {
   "cell_type": "markdown",
   "id": "2f09c344-2865-42d0-935c-7c20e3f2e9af",
   "metadata": {},
   "source": [
    "## Explore Datasets\n",
    "Use the `match`, `league`, and `country` tables to explore the data and practice your skills!\n",
    "- Use the `match`, `league`, and `country` tables to return the number of matches played in Great Britain versus elsewhere in the world.\n",
    "    - \"England\", \"Scotland\", and \"Wales\" should be categorized as \"Great Britain\"\n",
    "    - All other leagues will need to be categorized as \"World\".\n",
    "- Use the `match` and `country` tables to return the countries in which the average number of goals (home and away goals) scored are greater than the average number of goals of all matches.\n",
    "- In a soccer league, points are assigned to teams based on the result of a game. Here, let's assume that 3 points are awarded for a win, 1 for a tie, and 0 for a defeat. Use the `match` table to calculate the running total of points earned by the team \"Chelsea\" (team id 8455) in the season \"2014/2015\".\n",
    "    - The final output should have the match date, the points earned by Chelsea, and the running total."
   ]
  },
  {
   "cell_type": "code",
   "execution_count": null,
   "id": "e4c64ef0-4c65-46e6-b0eb-934f2b71c2e6",
   "metadata": {},
   "outputs": [],
   "source": []
  }
 ],
 "metadata": {
  "kernelspec": {
   "display_name": "Python [conda env:base] *",
   "language": "python",
   "name": "conda-base-py"
  },
  "language_info": {
   "codemirror_mode": {
    "name": "ipython",
    "version": 3
   },
   "file_extension": ".py",
   "mimetype": "text/x-python",
   "name": "python",
   "nbconvert_exporter": "python",
   "pygments_lexer": "ipython3",
   "version": "3.12.3"
  }
 },
 "nbformat": 4,
 "nbformat_minor": 5
}
