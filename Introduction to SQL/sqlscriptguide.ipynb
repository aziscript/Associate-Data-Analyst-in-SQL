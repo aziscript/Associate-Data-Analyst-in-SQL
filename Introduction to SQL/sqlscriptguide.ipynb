{
 "cells": [
  {
   "cell_type": "markdown",
   "id": "dcead66a-89f9-4ae3-a511-711d9b88e46f",
   "metadata": {},
   "source": [
    "## SQL script Execution Order"
   ]
  },
  {
   "cell_type": "markdown",
   "id": "b5a8b24f-0142-4bff-a324-bb3a8f7ff3f1",
   "metadata": {},
   "source": [
    "```sql\n",
    "SELECT release_year, AVG(budget) AS avg_budget, AVG(gross) AS avg_gross\n",
    "FROM films\n",
    "WHERE release_year > 1990\n",
    "GROUP BY release_year\n",
    "HAVING AVG(budget) > 60000000\n",
    "-- Order the results from highest to lowest average gross and limit to one\n",
    "ORDER BY avg_gross DESC\n",
    "LIMIT 1;"
   ]
  },
  {
   "cell_type": "markdown",
   "id": "7fdc1b9d-0f1a-4189-8964-4a45e60128d7",
   "metadata": {},
   "source": [
    "### 🔢 **Logical Execution Order:**\n",
    "\n",
    "1. **`FROM films`**\n",
    "    This tells SQL which table to retrieve data from.\n",
    "\n",
    "2. **`WHERE release_year > 1990`**\n",
    "    Filters the rows to only include those **after 1990**, before any grouping happens.\n",
    "\n",
    "3. **`GROUP BY release_year`**\n",
    "    Groups the filtered rows **by `release_year`**.\n",
    "\n",
    "4. **`HAVING AVG(budget) > 60000000`**\n",
    "    Filters the grouped results to include **only years where the average budget is over \\$60 million**.\n",
    "   (Unlike `WHERE`, `HAVING` works **after grouping**.)\n",
    "\n",
    "5. **`SELECT release_year, AVG(budget) AS avg_budget, AVG(gross) AS avg_gross`**\n",
    "    Calculates the average budget and gross for each group that passed the filter.\n",
    "\n",
    "6. **`ORDER BY avg_gross DESC`**\n",
    "    Sorts the remaining grouped rows **by average gross**, from highest to lowest.\n",
    "\n",
    "7. **`LIMIT 1`**\n",
    "    Returns **only the top result** after sorting.\n",
    "\n",
    "---\n",
    "\n",
    "### 🧠 Summary:\n",
    "\n",
    "Although it’s written top-down, SQL actually:\n",
    "\n",
    "* **Gets the data**\n",
    "* **Filters it**\n",
    "* **Groups it**\n",
    "* **Filters the groups**\n",
    "* **Selects and computes aggregates**\n",
    "* **Sorts the results**\n",
    "* **Limits the output**"
   ]
  },
  {
   "cell_type": "markdown",
   "id": "23d89341-c534-431b-a65c-40c18a3e51c6",
   "metadata": {},
   "source": [
    "## Inner join"
   ]
  },
  {
   "cell_type": "markdown",
   "id": "29ba9eda-fb71-40f9-b7fc-17756e8285fc",
   "metadata": {},
   "source": [
    "```sql\n",
    "FROM left_table\n",
    "JOIN right_table\n",
    "ON left_table.key = right_table.key"
   ]
  },
  {
   "cell_type": "code",
   "execution_count": null,
   "id": "37c45e00-20a5-4e10-84e5-68c61c77f84d",
   "metadata": {},
   "outputs": [],
   "source": []
  }
 ],
 "metadata": {
  "kernelspec": {
   "display_name": "Python [conda env:base] *",
   "language": "python",
   "name": "conda-base-py"
  },
  "language_info": {
   "codemirror_mode": {
    "name": "ipython",
    "version": 3
   },
   "file_extension": ".py",
   "mimetype": "text/x-python",
   "name": "python",
   "nbconvert_exporter": "python",
   "pygments_lexer": "ipython3",
   "version": "3.12.3"
  }
 },
 "nbformat": 4,
 "nbformat_minor": 5
}
